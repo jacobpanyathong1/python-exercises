{
 "cells": [
  {
   "cell_type": "code",
   "execution_count": null,
   "id": "c545f011",
   "metadata": {},
   "outputs": [],
   "source": [
    "# This is the first line\n",
    "# This is the second line"
   ]
  },
  {
   "cell_type": "markdown",
   "id": "7ad88e92",
   "metadata": {},
   "source": [
    "3 + 5\n"
   ]
  },
  {
   "cell_type": "code",
   "execution_count": null,
   "id": "155073ec",
   "metadata": {},
   "outputs": [],
   "source": []
  },
  {
   "cell_type": "code",
   "execution_count": 4,
   "id": "9bbfffb4",
   "metadata": {},
   "outputs": [
    {
     "data": {
      "text/plain": [
       "int"
      ]
     },
     "execution_count": 4,
     "metadata": {},
     "output_type": "execute_result"
    }
   ],
   "source": [
    "# A demonstration of the type function\n",
    "type(123)\n",
    "# The data type is int (for integer)"
   ]
  },
  {
   "cell_type": "code",
   "execution_count": 5,
   "id": "5e3f4f00",
   "metadata": {},
   "outputs": [
    {
     "data": {
      "text/plain": [
       "str"
      ]
     },
     "execution_count": 5,
     "metadata": {},
     "output_type": "execute_result"
    }
   ],
   "source": [
    "type ('hello')\n",
    "# The data type is str (for string)"
   ]
  },
  {
   "cell_type": "code",
   "execution_count": 6,
   "id": "f21a0284",
   "metadata": {},
   "outputs": [
    {
     "data": {
      "text/plain": [
       "bool"
      ]
     },
     "execution_count": 6,
     "metadata": {},
     "output_type": "execute_result"
    }
   ],
   "source": [
    "type (True)"
   ]
  },
  {
   "cell_type": "code",
   "execution_count": 7,
   "id": "c52f72ee",
   "metadata": {},
   "outputs": [],
   "source": [
    "# boolean data type is True or False"
   ]
  },
  {
   "cell_type": "code",
   "execution_count": 8,
   "id": "e645104c",
   "metadata": {},
   "outputs": [
    {
     "data": {
      "text/plain": [
       "str"
      ]
     },
     "execution_count": 8,
     "metadata": {},
     "output_type": "execute_result"
    }
   ],
   "source": [
    "type ('True')"
   ]
  },
  {
   "cell_type": "code",
   "execution_count": 10,
   "id": "9353e8ed",
   "metadata": {},
   "outputs": [],
   "source": [
    "# Assign a value to a variable\n",
    "favorite_number = 42\n",
    "n = favorite_number + 7"
   ]
  },
  {
   "cell_type": "code",
   "execution_count": 11,
   "id": "fb14e1c8",
   "metadata": {},
   "outputs": [
    {
     "name": "stdout",
     "output_type": "stream",
     "text": [
      "42\n"
     ]
    }
   ],
   "source": [
    "# Print favorite_number\n",
    "print(favorite_number)"
   ]
  },
  {
   "cell_type": "code",
   "execution_count": 12,
   "id": "3a4439a6",
   "metadata": {},
   "outputs": [
    {
     "data": {
      "text/plain": [
       "int"
      ]
     },
     "execution_count": 12,
     "metadata": {},
     "output_type": "execute_result"
    }
   ],
   "source": [
    "# Return the data type for favorite_number\n",
    "type(favorite_number)"
   ]
  },
  {
   "cell_type": "code",
   "execution_count": 13,
   "id": "284c2064",
   "metadata": {},
   "outputs": [
    {
     "data": {
      "text/plain": [
       "str"
      ]
     },
     "execution_count": 13,
     "metadata": {},
     "output_type": "execute_result"
    }
   ],
   "source": [
    "# This is a string named favorite_number\n",
    "type('favorite_number')"
   ]
  },
  {
   "cell_type": "code",
   "execution_count": 14,
   "id": "58681fe5",
   "metadata": {},
   "outputs": [
    {
     "name": "stdout",
     "output_type": "stream",
     "text": [
      "49\n"
     ]
    }
   ],
   "source": [
    "print(n)"
   ]
  },
  {
   "cell_type": "code",
   "execution_count": 17,
   "id": "f89c7ce4",
   "metadata": {},
   "outputs": [
    {
     "name": "stdout",
     "output_type": "stream",
     "text": [
      "1\n",
      "2\n",
      "8\n"
     ]
    }
   ],
   "source": [
    "x = 1\n",
    "print(x)\n",
    "x = x + 1\n",
    "print(x)\n",
    "x = x * 3 + x\n",
    "print(x)"
   ]
  },
  {
   "cell_type": "code",
   "execution_count": 18,
   "id": "4734cc68",
   "metadata": {},
   "outputs": [
    {
     "data": {
      "text/plain": [
       "True"
      ]
     },
     "execution_count": 18,
     "metadata": {},
     "output_type": "execute_result"
    }
   ],
   "source": [
    "# Boolean value\n",
    "# True (captial T)\n",
    "# False (captial F)\n",
    "\n",
    "# Check equality\n",
    "\n",
    "True == True\n",
    "\n",
    "\n"
   ]
  },
  {
   "cell_type": "code",
   "execution_count": 19,
   "id": "b995c43d",
   "metadata": {},
   "outputs": [
    {
     "data": {
      "text/plain": [
       "False"
      ]
     },
     "execution_count": 19,
     "metadata": {},
     "output_type": "execute_result"
    }
   ],
   "source": [
    "# Does True equal False?\n",
    "\n",
    "True == False"
   ]
  },
  {
   "cell_type": "code",
   "execution_count": 20,
   "id": "e5796432",
   "metadata": {},
   "outputs": [
    {
     "data": {
      "text/plain": [
       "True"
      ]
     },
     "execution_count": 20,
     "metadata": {},
     "output_type": "execute_result"
    }
   ],
   "source": [
    "# Checking inequality\n",
    "# Is True NOT EQUAL to True\n",
    "True != False"
   ]
  },
  {
   "cell_type": "code",
   "execution_count": 22,
   "id": "1aa72923",
   "metadata": {},
   "outputs": [
    {
     "data": {
      "text/plain": [
       "True"
      ]
     },
     "execution_count": 22,
     "metadata": {},
     "output_type": "execute_result"
    }
   ],
   "source": [
    "# NOT operator\n",
    "# Take the opposite Boolean value\n",
    "not not not False"
   ]
  },
  {
   "cell_type": "code",
   "execution_count": 23,
   "id": "a2f842b7",
   "metadata": {},
   "outputs": [
    {
     "data": {
      "text/plain": [
       "True"
      ]
     },
     "execution_count": 23,
     "metadata": {},
     "output_type": "execute_result"
    }
   ],
   "source": [
    "# and operator\n",
    "# Equal True when both statements are true\n",
    "True and True"
   ]
  },
  {
   "cell_type": "code",
   "execution_count": 25,
   "id": "79e4ab89",
   "metadata": {},
   "outputs": [
    {
     "data": {
      "text/plain": [
       "False"
      ]
     },
     "execution_count": 25,
     "metadata": {},
     "output_type": "execute_result"
    }
   ],
   "source": [
    "# Evaluating and operators\n",
    "\n",
    "# True and True = True\n",
    "# True and False = False\n",
    "# False and False = False\n",
    "\n",
    "False and False\n",
    "True and False"
   ]
  },
  {
   "cell_type": "code",
   "execution_count": null,
   "id": "fd57a716",
   "metadata": {},
   "outputs": [],
   "source": [
    "True and False"
   ]
  },
  {
   "cell_type": "code",
   "execution_count": null,
   "id": "eadda050",
   "metadata": {},
   "outputs": [],
   "source": [
    "# Evaluating or operators\n",
    "\n",
    "# True or False = True\n",
    "# True or True = True\n",
    "# False or False = False"
   ]
  },
  {
   "cell_type": "code",
   "execution_count": 26,
   "id": "bd3fe532",
   "metadata": {},
   "outputs": [
    {
     "data": {
      "text/plain": [
       "True"
      ]
     },
     "execution_count": 26,
     "metadata": {},
     "output_type": "execute_result"
    }
   ],
   "source": [
    "True or False"
   ]
  },
  {
   "cell_type": "raw",
   "id": "43a5e653",
   "metadata": {},
   "source": [
    "True or True"
   ]
  },
  {
   "cell_type": "code",
   "execution_count": 27,
   "id": "38ce7f37",
   "metadata": {},
   "outputs": [
    {
     "data": {
      "text/plain": [
       "False"
      ]
     },
     "execution_count": 27,
     "metadata": {},
     "output_type": "execute_result"
    }
   ],
   "source": [
    "False or False\n"
   ]
  },
  {
   "cell_type": "code",
   "execution_count": 30,
   "id": "84154e66",
   "metadata": {},
   "outputs": [
    {
     "name": "stdout",
     "output_type": "stream",
     "text": [
      "False\n"
     ]
    }
   ],
   "source": [
    "is_first_of_the_month = False\n",
    "report_has_been_sent = True\n",
    "\n",
    "should_process_report = is_first_of_the_month and not report_has_been_sent\n",
    "\n",
    "\n",
    "\n",
    "print(should_process_report)\n"
   ]
  },
  {
   "cell_type": "code",
   "execution_count": 31,
   "id": "bcddd748",
   "metadata": {},
   "outputs": [
    {
     "data": {
      "text/plain": [
       "True"
      ]
     },
     "execution_count": 31,
     "metadata": {},
     "output_type": "execute_result"
    }
   ],
   "source": [
    "# comparison Operators\n",
    "# Check equality\n",
    "1 == 1"
   ]
  },
  {
   "cell_type": "code",
   "execution_count": 33,
   "id": "b932fce9",
   "metadata": {},
   "outputs": [
    {
     "data": {
      "text/plain": [
       "True"
      ]
     },
     "execution_count": 33,
     "metadata": {},
     "output_type": "execute_result"
    }
   ],
   "source": [
    "# Check inequality\n",
    "# Is 1 NOT EQUAL to 0\n",
    "1 != 0"
   ]
  },
  {
   "cell_type": "code",
   "execution_count": 35,
   "id": "f018c213",
   "metadata": {},
   "outputs": [
    {
     "data": {
      "text/plain": [
       "True"
      ]
     },
     "execution_count": 35,
     "metadata": {},
     "output_type": "execute_result"
    }
   ],
   "source": [
    "# Check if value is greater than another value\n",
    "# Is 1 greater than 0?\n",
    "1 > 0"
   ]
  },
  {
   "cell_type": "code",
   "execution_count": 32,
   "id": "e6c99fc5",
   "metadata": {},
   "outputs": [
    {
     "data": {
      "text/plain": [
       "True"
      ]
     },
     "execution_count": 32,
     "metadata": {},
     "output_type": "execute_result"
    }
   ],
   "source": [
    "# Compare two strings\n",
    "'hello' == 'hello'"
   ]
  },
  {
   "cell_type": "code",
   "execution_count": 36,
   "id": "e03146c3",
   "metadata": {},
   "outputs": [
    {
     "data": {
      "text/plain": [
       "True"
      ]
     },
     "execution_count": 36,
     "metadata": {},
     "output_type": "execute_result"
    }
   ],
   "source": [
    "# Check if value is greater than another value\n",
    "# Is 1 greater than 0?\n",
    "1 > 0"
   ]
  },
  {
   "cell_type": "code",
   "execution_count": 37,
   "id": "07e58415",
   "metadata": {},
   "outputs": [
    {
     "data": {
      "text/plain": [
       "False"
      ]
     },
     "execution_count": 37,
     "metadata": {},
     "output_type": "execute_result"
    }
   ],
   "source": [
    "# is 5 < 4\n",
    "5 < 4"
   ]
  },
  {
   "cell_type": "code",
   "execution_count": 39,
   "id": "0f8719c6",
   "metadata": {},
   "outputs": [
    {
     "data": {
      "text/plain": [
       "True"
      ]
     },
     "execution_count": 39,
     "metadata": {},
     "output_type": "execute_result"
    }
   ],
   "source": [
    "# Greater than or equal to \n",
    "5 <= 5"
   ]
  },
  {
   "cell_type": "code",
   "execution_count": 40,
   "id": "9e07566f",
   "metadata": {},
   "outputs": [
    {
     "data": {
      "text/plain": [
       "False"
      ]
     },
     "execution_count": 40,
     "metadata": {},
     "output_type": "execute_result"
    }
   ],
   "source": [
    "2 <= 0"
   ]
  },
  {
   "cell_type": "code",
   "execution_count": 41,
   "id": "38614e3b",
   "metadata": {},
   "outputs": [
    {
     "data": {
      "text/plain": [
       "True"
      ]
     },
     "execution_count": 41,
     "metadata": {},
     "output_type": "execute_result"
    }
   ],
   "source": [
    "'hello' == 'hello'"
   ]
  },
  {
   "cell_type": "code",
   "execution_count": 42,
   "id": "3451a988",
   "metadata": {},
   "outputs": [
    {
     "data": {
      "text/plain": [
       "False"
      ]
     },
     "execution_count": 42,
     "metadata": {},
     "output_type": "execute_result"
    }
   ],
   "source": [
    "'hello' == 'Hello'"
   ]
  },
  {
   "cell_type": "code",
   "execution_count": 43,
   "id": "55a9c146",
   "metadata": {},
   "outputs": [
    {
     "data": {
      "text/plain": [
       "\"here is a number: 42. It's a nice number\""
      ]
     },
     "execution_count": 43,
     "metadata": {},
     "output_type": "execute_result"
    }
   ],
   "source": [
    "'hello there!'\n",
    "''\n",
    "'123'\n",
    "\"here is a number: 42. It's a nice number\"\n"
   ]
  },
  {
   "cell_type": "code",
   "execution_count": null,
   "id": "1d40cde3",
   "metadata": {},
   "outputs": [],
   "source": [
    "# Strings\n"
   ]
  },
  {
   "cell_type": "code",
   "execution_count": 48,
   "id": "a6cbf298",
   "metadata": {},
   "outputs": [
    {
     "data": {
      "text/plain": [
       "'      hello, codeup!      '"
      ]
     },
     "execution_count": 48,
     "metadata": {},
     "output_type": "execute_result"
    }
   ],
   "source": [
    "# Manipulate the string\n",
    "# Not modify the string\n",
    "# Assign a string to the variable s\n",
    "s = '      Hello, Codeup!      '\n",
    "# Apply the string method lower to variable s\n",
    "s.lower()"
   ]
  },
  {
   "cell_type": "code",
   "execution_count": 49,
   "id": "a0419558",
   "metadata": {},
   "outputs": [
    {
     "data": {
      "text/plain": [
       "'Hello, Codeup!'"
      ]
     },
     "execution_count": 49,
     "metadata": {},
     "output_type": "execute_result"
    }
   ],
   "source": [
    "#Apply the string method strip\n",
    "s.strip()"
   ]
  },
  {
   "cell_type": "code",
   "execution_count": 50,
   "id": "759808d6",
   "metadata": {},
   "outputs": [
    {
     "data": {
      "text/plain": [
       "False"
      ]
     },
     "execution_count": 50,
     "metadata": {},
     "output_type": "execute_result"
    }
   ],
   "source": [
    "# Apply  the string method isdigit\n",
    "# Returns True if string is a digit\n",
    "s.isdigit()"
   ]
  },
  {
   "cell_type": "code",
   "execution_count": 51,
   "id": "6b8f6222",
   "metadata": {},
   "outputs": [
    {
     "data": {
      "text/plain": [
       "True"
      ]
     },
     "execution_count": 51,
     "metadata": {},
     "output_type": "execute_result"
    }
   ],
   "source": [
    "# Apply isdigit to the string '123'\n",
    "'123'.isdigit()"
   ]
  },
  {
   "cell_type": "code",
   "execution_count": 52,
   "id": "f69b5b67",
   "metadata": {},
   "outputs": [
    {
     "data": {
      "text/plain": [
       "False"
      ]
     },
     "execution_count": 52,
     "metadata": {},
     "output_type": "execute_result"
    }
   ],
   "source": [
    "'hello'.isdigit()\n"
   ]
  },
  {
   "cell_type": "code",
   "execution_count": 53,
   "id": "9e7f8ca9",
   "metadata": {},
   "outputs": [
    {
     "data": {
      "text/plain": [
       "['Hello', ' Codeup!']"
      ]
     },
     "execution_count": 53,
     "metadata": {},
     "output_type": "execute_result"
    }
   ],
   "source": [
    "s.strip().split(',')"
   ]
  },
  {
   "cell_type": "code",
   "execution_count": 54,
   "id": "db2f82ff",
   "metadata": {},
   "outputs": [
    {
     "data": {
      "text/plain": [
       "[1, 2, 3]"
      ]
     },
     "execution_count": 54,
     "metadata": {},
     "output_type": "execute_result"
    }
   ],
   "source": [
    "# Create a list\n",
    "# Enclosed in square brackets\n",
    "[1, 2, 3]"
   ]
  },
  {
   "cell_type": "code",
   "execution_count": 55,
   "id": "7836c9ab",
   "metadata": {},
   "outputs": [
    {
     "data": {
      "text/plain": [
       "[1, 2, 3]"
      ]
     },
     "execution_count": 55,
     "metadata": {},
     "output_type": "execute_result"
    }
   ],
   "source": [
    "# Contains integers\n",
    "# Enclosed in square brackets\n",
    "[1, 2, 3]"
   ]
  },
  {
   "cell_type": "code",
   "execution_count": 56,
   "id": "862cc836",
   "metadata": {},
   "outputs": [
    {
     "data": {
      "text/plain": [
       "list"
      ]
     },
     "execution_count": 56,
     "metadata": {},
     "output_type": "execute_result"
    }
   ],
   "source": [
    "type([1, 2, 3])"
   ]
  },
  {
   "cell_type": "code",
   "execution_count": 57,
   "id": "b0dfb205",
   "metadata": {},
   "outputs": [
    {
     "data": {
      "text/plain": [
       "['one', 'two', 'three']"
      ]
     },
     "execution_count": 57,
     "metadata": {},
     "output_type": "execute_result"
    }
   ],
   "source": [
    "#List with 3 strings\n",
    "['one', 'two', 'three']"
   ]
  },
  {
   "cell_type": "code",
   "execution_count": 58,
   "id": "0c2f9dbc",
   "metadata": {},
   "outputs": [
    {
     "name": "stdout",
     "output_type": "stream",
     "text": [
      "['one', 'two', 'three']\n"
     ]
    }
   ],
   "source": [
    "#Assign the list to a variable\n",
    "my_list = ['one', 'two', 'three']\n",
    "print(my_list)"
   ]
  },
  {
   "cell_type": "code",
   "execution_count": 59,
   "id": "dba675dd",
   "metadata": {},
   "outputs": [
    {
     "data": {
      "text/plain": [
       "[[1, 2, 3], [4, 5, 6], [7, 8, 9]]"
      ]
     },
     "execution_count": 59,
     "metadata": {},
     "output_type": "execute_result"
    }
   ],
   "source": [
    "# A list with 3 lists\n",
    "[[1, 2, 3], [4, 5, 6], [7, 8, 9]]"
   ]
  },
  {
   "cell_type": "code",
   "execution_count": 61,
   "id": "af8c1791",
   "metadata": {},
   "outputs": [
    {
     "data": {
      "text/plain": [
       "[0, 1, 2, 3, 4, 5, 6, 7, 8, 9]"
      ]
     },
     "execution_count": 61,
     "metadata": {},
     "output_type": "execute_result"
    }
   ],
   "source": [
    "# Creating lists with list comprehension\n",
    "[n for n  in range(10)]\n",
    "# Start with 0\n",
    "# Do not include 10"
   ]
  },
  {
   "cell_type": "code",
   "execution_count": 62,
   "id": "f645f200",
   "metadata": {},
   "outputs": [
    {
     "data": {
      "text/plain": [
       "[0, 2, 4, 6, 8, 10, 12, 14, 16, 18]"
      ]
     },
     "execution_count": 62,
     "metadata": {},
     "output_type": "execute_result"
    }
   ],
   "source": [
    "[ n * 2 for n in range (10)]"
   ]
  },
  {
   "cell_type": "code",
   "execution_count": null,
   "id": "972ac013",
   "metadata": {},
   "outputs": [],
   "source": [
    "[ n * 2 for n in range (10) if n% 2 ==0]\n",
    "# Checking for equality\n",
    "# If n % 2 == 0\n",
    "# n = 0 Condition is True\n",
    "# n = 1 Condition is False\n",
    "# n = 2 Conditino is True\n",
    "# n = 3 Condition is False (2 * 3) is not included"
   ]
  }
 ],
 "metadata": {
  "kernelspec": {
   "display_name": "Python 3 (ipykernel)",
   "language": "python",
   "name": "python3"
  },
  "language_info": {
   "codemirror_mode": {
    "name": "ipython",
    "version": 3
   },
   "file_extension": ".py",
   "mimetype": "text/x-python",
   "name": "python",
   "nbconvert_exporter": "python",
   "pygments_lexer": "ipython3",
   "version": "3.9.13"
  }
 },
 "nbformat": 4,
 "nbformat_minor": 5
}
