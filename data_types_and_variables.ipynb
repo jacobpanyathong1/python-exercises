{
 "cells": [
  {
   "cell_type": "code",
   "execution_count": 1,
   "id": "1e23b6a3",
   "metadata": {},
   "outputs": [
    {
     "name": "stdout",
     "output_type": "stream",
     "text": [
      "27\n"
     ]
    }
   ],
   "source": [
    "little_mermaid = 3\n",
    "brother_bear = 5\n",
    "hercules = 1\n",
    "x = 3 #dollars\n",
    "y  = (little_mermaid * x) + (brother_bear * x) + (hercules * x)\n",
    "print(y) #total sum\n",
    "# You rented some movies for your kids"
   ]
  },
  {
   "cell_type": "code",
   "execution_count": 2,
   "id": "192462fc",
   "metadata": {},
   "outputs": [
    {
     "name": "stdout",
     "output_type": "stream",
     "text": [
      "7420\n"
     ]
    }
   ],
   "source": [
    "h = [10, 6, 4]\n",
    "google = 400 * h[1]\n",
    "amazon = 380 * h[-1]\n",
    "facebook = 350 * h[0]\n",
    "payment = google + amazon + facebook\n",
    "print(payment)\n",
    "#You're working as a contractor for 3 companies"
   ]
  },
  {
   "cell_type": "code",
   "execution_count": 3,
   "id": "7822c2f2",
   "metadata": {},
   "outputs": [
    {
     "name": "stdout",
     "output_type": "stream",
     "text": [
      "Purchase price: 100\n",
      "Enter discount: .12\n",
      "Enter total items: 1\n",
      "Are you a premimum memember? Enter y/n: n\n",
      "100\n"
     ]
    }
   ],
   "source": [
    "# premium membership discount \n",
    "pur_price = int(input('Purchase price: '))\n",
    "offer_discount = float(input('Enter discount: '))\n",
    "items = int(input('Enter total items: '))\n",
    "purchase_total = pur_price - (pur_price * offer_discount)\n",
    "premium_mem = input('Are you a premimum memember? Enter y/n: ')\n",
    "if items >= 2 or premium_mem == 'y':\n",
    "    print(purchase_total)\n",
    "else: \n",
    "    print(pur_price)\n",
    "\n",
    "\n",
    "   "
   ]
  },
  {
   "cell_type": "code",
   "execution_count": 4,
   "id": "16c31ba6",
   "metadata": {},
   "outputs": [],
   "source": [
    "username = 'codeup'     #current username\n",
    "password = 'notastrongpassword'       #current password"
   ]
  },
  {
   "cell_type": "code",
   "execution_count": 5,
   "id": "e6cf31b5",
   "metadata": {},
   "outputs": [
    {
     "data": {
      "text/plain": [
       "True"
      ]
     },
     "execution_count": 5,
     "metadata": {},
     "output_type": "execute_result"
    }
   ],
   "source": [
    "len(password) >= 5\n",
    "# the password must be at least 5 characters"
   ]
  },
  {
   "cell_type": "code",
   "execution_count": 6,
   "id": "e282cd07",
   "metadata": {},
   "outputs": [
    {
     "data": {
      "text/plain": [
       "True"
      ]
     },
     "execution_count": 6,
     "metadata": {},
     "output_type": "execute_result"
    }
   ],
   "source": [
    "len(username) <= 20\n",
    "#the username must be no more than 20 characters"
   ]
  },
  {
   "cell_type": "code",
   "execution_count": 7,
   "id": "183e2d88",
   "metadata": {},
   "outputs": [
    {
     "data": {
      "text/plain": [
       "True"
      ]
     },
     "execution_count": 7,
     "metadata": {},
     "output_type": "execute_result"
    }
   ],
   "source": [
    "username != password\n",
    "# the password must not be the same as the username"
   ]
  },
  {
   "cell_type": "code",
   "execution_count": 8,
   "id": "24cc323c",
   "metadata": {},
   "outputs": [],
   "source": [
    "remove_space_username = username.strip()      #leave out whitespaces for start/end username"
   ]
  },
  {
   "cell_type": "code",
   "execution_count": 9,
   "id": "afbda3bf",
   "metadata": {},
   "outputs": [
    {
     "data": {
      "text/plain": [
       "'codeup'"
      ]
     },
     "execution_count": 9,
     "metadata": {},
     "output_type": "execute_result"
    }
   ],
   "source": [
    "remove_space_username"
   ]
  },
  {
   "cell_type": "code",
   "execution_count": 10,
   "id": "307cb804",
   "metadata": {},
   "outputs": [],
   "source": [
    "remove_space_password = password.strip()      #leave out whitespaces for start/end username"
   ]
  },
  {
   "cell_type": "code",
   "execution_count": 11,
   "id": "2c4a25bc",
   "metadata": {},
   "outputs": [
    {
     "data": {
      "text/plain": [
       "'notastrongpassword'"
      ]
     },
     "execution_count": 11,
     "metadata": {},
     "output_type": "execute_result"
    }
   ],
   "source": [
    "remove_space_password"
   ]
  },
  {
   "cell_type": "code",
   "execution_count": 12,
   "id": "63090871",
   "metadata": {},
   "outputs": [],
   "source": [
    "#Bonus\n",
    "#17 exercises\n",
    "fruits = ['mango', 'kiwi', 'strawberry', 'guava', 'pineapple', 'mandarin orange']"
   ]
  },
  {
   "cell_type": "code",
   "execution_count": 13,
   "id": "13c8242a",
   "metadata": {},
   "outputs": [],
   "source": [
    "numbers = [2, 3, 4, 5, 6, 7, 8, 9, 10, 11, 13, 17, 19, 23, 256, -8, -4, -2, 5, -9]"
   ]
  },
  {
   "cell_type": "code",
   "execution_count": 14,
   "id": "e6291e6e",
   "metadata": {},
   "outputs": [],
   "source": [
    "m = fruits[0]\n",
    "k = fruits[1]\n",
    "s = fruits[2]\n",
    "g = fruits[3]\n",
    "p = fruits[4]\n",
    "ma = fruits[-1]"
   ]
  },
  {
   "cell_type": "code",
   "execution_count": 15,
   "id": "1409360f",
   "metadata": {},
   "outputs": [
    {
     "data": {
      "text/plain": [
       "['MANGO', 'KIWI', 'STRAWBERRY', 'GUAVA', 'PINEAPPLE', 'MANDARIN ORANGE']"
      ]
     },
     "execution_count": 15,
     "metadata": {},
     "output_type": "execute_result"
    }
   ],
   "source": [
    "# Exercise 1 - rewrite the above example code using list comprehension syntax. Make a variable named uppercased_fruits to hold the output of the list comprehension. Output should be ['MANGO', 'KIWI', etc...]\n",
    "lst = []\n",
    "for i in fruits:\n",
    "    lst.append(i.upper())\n",
    "lst"
   ]
  },
  {
   "cell_type": "code",
   "execution_count": 16,
   "id": "342206b2",
   "metadata": {},
   "outputs": [
    {
     "data": {
      "text/plain": [
       "['Mango', 'Kiwi', 'Strawberry', 'Guava', 'Pineapple', 'Mandarin orange']"
      ]
     },
     "execution_count": 16,
     "metadata": {},
     "output_type": "execute_result"
    }
   ],
   "source": [
    "# Exercise 2\n",
    "lst = []\n",
    "for i in fruits:\n",
    "    capitalized_fruits = lst.append(i.capitalize())\n",
    "lst"
   ]
  },
  {
   "cell_type": "code",
   "execution_count": 17,
   "id": "95de898c",
   "metadata": {},
   "outputs": [],
   "source": [
    "m1 = fruits[0]\n",
    "m2 = fruits[1]\n",
    "m3 = fruits[2]\n",
    "m4 = fruits[3]\n",
    "m5 = fruits[4]\n",
    "m6 = fruits[-1]"
   ]
  },
  {
   "cell_type": "code",
   "execution_count": 18,
   "id": "cd5e621d",
   "metadata": {},
   "outputs": [],
   "source": [
    "count_m = len(m)\n",
    "count_k = len(k)\n",
    "count_s = len(s)\n",
    "count_g = len(g)\n",
    "count_p = len(p)\n",
    "count_ma = len(ma)"
   ]
  },
  {
   "cell_type": "code",
   "execution_count": 37,
   "id": "291503ca",
   "metadata": {},
   "outputs": [
    {
     "data": {
      "text/plain": [
       "[['mango', 'kiwi', 'strawberry', 'guava', 'pineapple', 'mandarin orange']]"
      ]
     },
     "execution_count": 37,
     "metadata": {},
     "output_type": "execute_result"
    }
   ],
   "source": [
    "# Exercise 3\n",
    "vowels = ('aeiou')\n",
    "count = 0\n",
    "lst = []\n",
    "for i in m1:\n",
    "    for vowel in vowels:\n",
    "        if i == vowel in vowels:\n",
    "            count += 1\n",
    "lst.append(count)\n",
    "count = 0\n",
    "for i in m2:\n",
    "    for vowel in vowels:\n",
    "        if i == vowel in vowels:\n",
    "            count += 1\n",
    "lst.append(count)\n",
    "count = 0\n",
    "for i in m3:\n",
    "    for vowel in vowels:\n",
    "        if i == vowel in vowels:\n",
    "            count += 1\n",
    "lst.append(count)\n",
    "count = 0\n",
    "for i in m4:\n",
    "    for vowel in vowels:\n",
    "        if i == vowel in vowels:\n",
    "            count += 1\n",
    "lst.append(count)\n",
    "count = 0\n",
    "for i in m5:\n",
    "    for vowel in vowels:\n",
    "        if i == vowel in vowels:\n",
    "            count += 1\n",
    "lst.append(count)\n",
    "count = 0\n",
    "for i in m6:\n",
    "    for vowel in vowels:\n",
    "        if i == vowel in vowels:\n",
    "            count += 1\n",
    "lst.append(count)\n",
    "lst\n",
    "fruits_with_more_than_two_vowels = []\n",
    "fruits_with_more_than_two_vowels.append(fruits[0:])\n",
    "fruits_with_more_than_two_vowels"
   ]
  },
  {
   "cell_type": "code",
   "execution_count": 38,
   "id": "96cbf47c",
   "metadata": {},
   "outputs": [
    {
     "data": {
      "text/plain": [
       "[['mango', 'kiwi', 'strawberry']]"
      ]
     },
     "execution_count": 38,
     "metadata": {},
     "output_type": "execute_result"
    }
   ],
   "source": [
    "#Exercise 4\n",
    "fruits_with_only_two_vowels = []\n",
    "fruits_with_only_two_vowels.append(fruits[0:3])\n",
    "fruits_with_only_two_vowels\n"
   ]
  },
  {
   "cell_type": "code",
   "execution_count": 46,
   "id": "d05ed464",
   "metadata": {},
   "outputs": [
    {
     "data": {
      "text/plain": [
       "['strawberry', ['pineapple', 'mandarin orange']]"
      ]
     },
     "execution_count": 46,
     "metadata": {},
     "output_type": "execute_result"
    }
   ],
   "source": [
    "# exercise 5\n",
    "count_m = len(m)\n",
    "count_k = len(k)\n",
    "count_s = len(s)\n",
    "count_g = len(g)\n",
    "count_p = len(p)\n",
    "count_ma = len(ma)\n",
    "\n",
    "lst = [count_m, count_k, count_s, count_g, count_p, count_ma]\n",
    "fruits_over_5_letters = []\n",
    "fruits_over_5_letters.append(fruits[2])\n",
    "fruits_over_5_letters.append(fruits[-2:])\n",
    "fruits_over_5_letters"
   ]
  },
  {
   "cell_type": "code",
   "execution_count": 30,
   "id": "ae226c62",
   "metadata": {},
   "outputs": [
    {
     "data": {
      "text/plain": [
       "['mango', 'guava']"
      ]
     },
     "execution_count": 30,
     "metadata": {},
     "output_type": "execute_result"
    }
   ],
   "source": [
    "# exercise 6\n",
    "lst\n",
    "fruits_with_5_letters = []\n",
    "fruits_with_5_letters.append(fruits[0])\n",
    "fruits_with_5_letters.append(fruits[3])\n",
    "fruits_with_5_letters"
   ]
  },
  {
   "cell_type": "code",
   "execution_count": 32,
   "id": "acd6e793",
   "metadata": {},
   "outputs": [
    {
     "data": {
      "text/plain": [
       "['kiwi']"
      ]
     },
     "execution_count": 32,
     "metadata": {},
     "output_type": "execute_result"
    }
   ],
   "source": [
    "# exercise 7\n",
    "lst\n",
    "fruits_under_5 = []\n",
    "fruits_under_5.append(fruits[1])\n",
    "fruits_under_5"
   ]
  },
  {
   "cell_type": "code",
   "execution_count": 48,
   "id": "b2d8de92",
   "metadata": {},
   "outputs": [
    {
     "data": {
      "text/plain": [
       "[5, 4, 10, 5, 9, 15]"
      ]
     },
     "execution_count": 48,
     "metadata": {},
     "output_type": "execute_result"
    }
   ],
   "source": [
    "#Exercise 8\n",
    "lst"
   ]
  },
  {
   "cell_type": "code",
   "execution_count": 65,
   "id": "ed8998da",
   "metadata": {},
   "outputs": [
    {
     "data": {
      "text/plain": [
       "['mango', ['strawberry', 'guava', 'pineapple', 'mandarin orange']]"
      ]
     },
     "execution_count": 65,
     "metadata": {},
     "output_type": "execute_result"
    }
   ],
   "source": [
    "#9 \n",
    "lst = []\n",
    "m_a_1 = m1.count('a')\n",
    "lst.append(m_a_1)\n",
    "m_a_2 = m2.count('a')\n",
    "lst.append(m_a_2)\n",
    "m_a_3 = m3.count('a')\n",
    "lst.append(m_a_3)\n",
    "m_a_4 = m4.count('a')\n",
    "lst.append(m_a_4)\n",
    "m_a_5 = m5.count('a')\n",
    "lst.append(m_a_5)\n",
    "m_a_6 = m6.count('a')\n",
    "lst.append(m_a_6)\n",
    "lst\n",
    "fruits_with_letter_a = []\n",
    "fruits_with_letter_a.append(fruits[0])\n",
    "fruits_with_letter_a.append(fruits[2:])\n",
    "fruits_with_letter_a"
   ]
  },
  {
   "cell_type": "code",
   "execution_count": 82,
   "id": "ef67bb9c",
   "metadata": {},
   "outputs": [
    {
     "data": {
      "text/plain": [
       "'guava'"
      ]
     },
     "execution_count": 82,
     "metadata": {},
     "output_type": "execute_result"
    }
   ],
   "source": [
    "#10\n",
    "lst\n",
    "even_numbers = fruits[3]\n",
    "even_numbers"
   ]
  },
  {
   "cell_type": "code",
   "execution_count": 81,
   "id": "570ddc6a",
   "metadata": {},
   "outputs": [
    {
     "data": {
      "text/plain": [
       "[1, 0, 1, 2, 1, 3]"
      ]
     },
     "execution_count": 81,
     "metadata": {},
     "output_type": "execute_result"
    }
   ],
   "source": [
    "lst"
   ]
  },
  {
   "cell_type": "code",
   "execution_count": 90,
   "id": "7af8b632",
   "metadata": {},
   "outputs": [
    {
     "data": {
      "text/plain": [
       "['mango', 'strawberry', ['pineapple', 'mandarin orange']]"
      ]
     },
     "execution_count": 90,
     "metadata": {},
     "output_type": "execute_result"
    }
   ],
   "source": [
    "#11\n",
    "lst\n",
    "odd_numbers = []\n",
    "odd_numbers.append(fruits[0])\n",
    "odd_numbers.append(fruits[2])\n",
    "odd_numbers.append(fruits[4:])\n",
    "odd_numbers"
   ]
  },
  {
   "cell_type": "code",
   "execution_count": 103,
   "id": "2668930d",
   "metadata": {},
   "outputs": [
    {
     "data": {
      "text/plain": [
       "[0, 1, 2, 3, 4, 5, 6, 7, 8, 9, 10, 11, 12, 13, 14, 15, 16, 17, 18, 19, 20]"
      ]
     },
     "execution_count": 103,
     "metadata": {},
     "output_type": "execute_result"
    }
   ],
   "source": [
    "#12\n",
    "lst = list(range(21))\n",
    "lst"
   ]
  },
  {
   "cell_type": "code",
   "execution_count": 105,
   "id": "2c17afba",
   "metadata": {},
   "outputs": [
    {
     "data": {
      "text/plain": [
       "[21, 20, 19, 18, 17, 16, 15, 14, 13, 12, 11, 10, 9, 8, 7, 6, 5, 4, 3, 2, 1, 0]"
      ]
     },
     "execution_count": 105,
     "metadata": {},
     "output_type": "execute_result"
    }
   ],
   "source": [
    "#13\n",
    "while \n",
    "lst = list(range(21, -1, -1))\n",
    "lst"
   ]
  },
  {
   "cell_type": "code",
   "execution_count": null,
   "id": "ba7b8668",
   "metadata": {},
   "outputs": [],
   "source": []
  }
 ],
 "metadata": {
  "kernelspec": {
   "display_name": "Python 3 (ipykernel)",
   "language": "python",
   "name": "python3"
  },
  "language_info": {
   "codemirror_mode": {
    "name": "ipython",
    "version": 3
   },
   "file_extension": ".py",
   "mimetype": "text/x-python",
   "name": "python",
   "nbconvert_exporter": "python",
   "pygments_lexer": "ipython3",
   "version": "3.9.13"
  }
 },
 "nbformat": 4,
 "nbformat_minor": 5
}
