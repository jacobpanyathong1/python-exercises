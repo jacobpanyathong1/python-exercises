{
 "cells": [
  {
   "cell_type": "code",
   "execution_count": 2,
   "id": "e7bce515",
   "metadata": {},
   "outputs": [
    {
     "name": "stdout",
     "output_type": "stream",
     "text": [
      "it's not monday\n",
      "it's monday\n",
      "it's not monday\n",
      "it's not monday\n",
      "it's not monday\n",
      "it's not monday\n",
      "it's not monday\n"
     ]
    }
   ],
   "source": [
    "days =[]\n",
    "days.append('sunday')\n",
    "days.append('monday')\n",
    "days.append('tuesday')\n",
    "days.append('wednesday')\n",
    "days.append('thursday')\n",
    "days.append('friday')\n",
    "days.append('saturday')\n",
    "\n",
    "for i in days:\n",
    "    if i == 'monday':\n",
    "        print('it\\'s monday')\n",
    "    else:\n",
    "        print('it\\'s not monday')\n",
    "# Conditional basics"
   ]
  },
  {
   "cell_type": "code",
   "execution_count": 7,
   "id": "39058f48",
   "metadata": {},
   "outputs": [
    {
     "name": "stdout",
     "output_type": "stream",
     "text": [
      "['sunday', 'saturday']\n"
     ]
    }
   ],
   "source": [
    "\n",
    "\n",
    "weekday = days[1:6]\n",
    "weekends = []\n",
    "weekends.append(days[0])\n",
    "weekends.append(days[-1])\n",
    "\n"
   ]
  },
  {
   "cell_type": "code",
   "execution_count": 66,
   "id": "a0635e6e",
   "metadata": {},
   "outputs": [
    {
     "name": "stdout",
     "output_type": "stream",
     "text": [
      "2525.0\n"
     ]
    }
   ],
   "source": [
    "base_hours = 40\n",
    "hourly_rate = 50.00\n",
    "over_time_hours = 10\n",
    "over_time = (base_hours * hourly_rate+(over_time_hours*hourly_rate+hourly_rate*.50))\n",
    "hours_worked = base_hours + over_time_hours\n",
    "weekly_paycheck = base_hours * hourly_rate\n",
    "over_time_paycheck = over_time\n",
    "if hours_worked > 40:\n",
    "    print(over_time_paycheck)\n",
    "else:\n",
    "    print(weekly_paycheck)\n"
   ]
  },
  {
   "cell_type": "code",
   "execution_count": 2,
   "id": "dffa9109",
   "metadata": {},
   "outputs": [
    {
     "name": "stdout",
     "output_type": "stream",
     "text": [
      "5\n",
      "6\n",
      "7\n",
      "8\n",
      "9\n",
      "10\n",
      "11\n",
      "12\n",
      "13\n",
      "14\n",
      "15\n"
     ]
    }
   ],
   "source": [
    "#2 loop basics\n",
    "i = 5\n",
    "while i <= 15:\n",
    "    print(i)\n",
    "    i += 1\n"
   ]
  },
  {
   "cell_type": "code",
   "execution_count": 3,
   "id": "36da6e2e",
   "metadata": {},
   "outputs": [
    {
     "name": "stdout",
     "output_type": "stream",
     "text": [
      "0\n",
      "2\n",
      "4\n",
      "6\n",
      "8\n",
      "10\n",
      "12\n",
      "14\n",
      "16\n",
      "18\n",
      "20\n",
      "22\n",
      "24\n",
      "26\n",
      "28\n",
      "30\n",
      "32\n",
      "34\n",
      "36\n",
      "38\n",
      "40\n",
      "42\n",
      "44\n",
      "46\n",
      "48\n",
      "50\n",
      "52\n",
      "54\n",
      "56\n",
      "58\n",
      "60\n",
      "62\n",
      "64\n",
      "66\n",
      "68\n",
      "70\n",
      "72\n",
      "74\n",
      "76\n",
      "78\n",
      "80\n",
      "82\n",
      "84\n",
      "86\n",
      "88\n",
      "90\n",
      "92\n",
      "94\n",
      "96\n",
      "98\n",
      "100\n"
     ]
    }
   ],
   "source": [
    "i = 0\n",
    "while i <= 100:\n",
    "    print(i)\n",
    "    i += 2"
   ]
  },
  {
   "cell_type": "code",
   "execution_count": 4,
   "id": "45a826ad",
   "metadata": {},
   "outputs": [
    {
     "name": "stdout",
     "output_type": "stream",
     "text": [
      "100\n",
      "95\n",
      "90\n",
      "85\n",
      "80\n",
      "75\n",
      "70\n",
      "65\n",
      "60\n",
      "55\n",
      "50\n",
      "45\n",
      "40\n",
      "35\n",
      "30\n",
      "25\n",
      "20\n",
      "15\n",
      "10\n",
      "5\n",
      "0\n",
      "-5\n",
      "-10\n"
     ]
    }
   ],
   "source": [
    "i = 100\n",
    "while i >= -10:\n",
    "    print(i)\n",
    "    i -= 5"
   ]
  },
  {
   "cell_type": "code",
   "execution_count": 9,
   "id": "8c20b304",
   "metadata": {},
   "outputs": [
    {
     "name": "stdout",
     "output_type": "stream",
     "text": [
      "2\n",
      "4\n",
      "16\n",
      "256\n",
      "65536\n"
     ]
    }
   ],
   "source": [
    "i = 2\n",
    "while i <= 1000000:\n",
    "    print(i)\n",
    "    i **= 2"
   ]
  },
  {
   "cell_type": "code",
   "execution_count": 12,
   "id": "ae77281d",
   "metadata": {},
   "outputs": [
    {
     "name": "stdout",
     "output_type": "stream",
     "text": [
      "100\n",
      "95\n",
      "90\n",
      "85\n",
      "80\n",
      "75\n",
      "70\n",
      "65\n",
      "60\n",
      "55\n",
      "50\n",
      "45\n",
      "40\n",
      "35\n",
      "30\n",
      "25\n",
      "20\n",
      "15\n",
      "10\n",
      "5\n"
     ]
    }
   ],
   "source": [
    "i = 100\n",
    "while i >= 5:\n",
    "    print(i)\n",
    "    i -= 5"
   ]
  },
  {
   "cell_type": "code",
   "execution_count": 22,
   "id": "1602125e",
   "metadata": {},
   "outputs": [
    {
     "name": "stdout",
     "output_type": "stream",
     "text": [
      "7 x 1 = 7\n",
      "7 x 2 = 14\n",
      "7 x 3 = 21\n",
      "7 x 4 = 28\n",
      "7 x 5 = 35\n",
      "7 x 6 = 42\n",
      "7 x 7 = 49\n",
      "7 x 8 = 56\n",
      "7 x 9 = 63\n",
      "7 x 10 = 70\n"
     ]
    }
   ],
   "source": [
    "for i in range(1, 11):\n",
    "    print(f'7 x {i} = {i*7}')\n",
    "\n"
   ]
  },
  {
   "cell_type": "code",
   "execution_count": 45,
   "id": "f6c37836",
   "metadata": {},
   "outputs": [
    {
     "name": "stdout",
     "output_type": "stream",
     "text": [
      "1\n",
      "22\n",
      "333\n",
      "4444\n",
      "55555\n",
      "666666\n",
      "7777777\n",
      "88888888\n",
      "999999999\n"
     ]
    }
   ],
   "source": [
    "for i in range(1, 10):\n",
    "    print(f'{i}'*i)\n",
    "    "
   ]
  },
  {
   "cell_type": "code",
   "execution_count": 63,
   "id": "3a97876c",
   "metadata": {},
   "outputs": [
    {
     "name": "stdout",
     "output_type": "stream",
     "text": [
      "100\n",
      "97\n",
      "94\n",
      "91\n",
      "88\n",
      "85\n",
      "82\n",
      "79\n",
      "76\n",
      "73\n",
      "70\n",
      "67\n",
      "64\n",
      "61\n",
      "58\n",
      "55\n",
      "52\n",
      "49\n",
      "46\n",
      "43\n",
      "40\n",
      "37\n",
      "34\n",
      "31\n",
      "28\n",
      "25\n",
      "22\n",
      "19\n",
      "16\n",
      "13\n",
      "10\n",
      "7\n",
      "4\n",
      "1\n"
     ]
    }
   ],
   "source": [
    "i = 100\n",
    "while i >= 1:\n",
    "    print(i)\n",
    "    i -= 3"
   ]
  },
  {
   "cell_type": "code",
   "execution_count": 75,
   "id": "08e4fde8",
   "metadata": {},
   "outputs": [
    {
     "name": "stdout",
     "output_type": "stream",
     "text": [
      "0\n",
      "1\n",
      "2\n",
      "3\n",
      "4\n",
      "5\n",
      "6\n",
      "7\n",
      "8\n",
      "9\n",
      "10\n"
     ]
    }
   ],
   "source": [
    "x = int(input())\n",
    "i = 0\n",
    "while i <= x:\n",
    "    print(i)\n",
    "    i += 1"
   ]
  },
  {
   "cell_type": "code",
   "execution_count": 84,
   "id": "9137b1db",
   "metadata": {},
   "outputs": [],
   "source": [
    "x = int(input())\n",
    "i = 1\n",
    "while i <= x:\n",
    "    print(f'Here is an odd number: {i}')\n",
    "i += 2"
   ]
  },
  {
   "cell_type": "code",
   "execution_count": 2,
   "id": "4bcc8352",
   "metadata": {},
   "outputs": [
    {
     "name": "stdout",
     "output_type": "stream",
     "text": [
      "1\n",
      "2\n",
      "3 Fizz\n",
      "4\n",
      "5 Buzz\n",
      "6 Fizz\n",
      "7\n",
      "8\n",
      "9 Fizz\n",
      "10 Buzz\n",
      "11\n",
      "12 Fizz\n",
      "13\n",
      "14\n",
      "15 FizzBuzz\n",
      "16\n",
      "17\n",
      "18 Fizz\n",
      "19\n",
      "20 Buzz\n",
      "21 Fizz\n",
      "22\n",
      "23\n",
      "24 Fizz\n",
      "25 Buzz\n",
      "26\n",
      "27 Fizz\n",
      "28\n",
      "29\n",
      "30 FizzBuzz\n",
      "31\n",
      "32\n",
      "33 Fizz\n",
      "34\n",
      "35 Buzz\n",
      "36 Fizz\n",
      "37\n",
      "38\n",
      "39 Fizz\n",
      "40 Buzz\n",
      "41\n",
      "42 Fizz\n",
      "43\n",
      "44\n",
      "45 FizzBuzz\n",
      "46\n",
      "47\n",
      "48 Fizz\n",
      "49\n",
      "50 Buzz\n",
      "51 Fizz\n",
      "52\n",
      "53\n",
      "54 Fizz\n",
      "55 Buzz\n",
      "56\n",
      "57 Fizz\n",
      "58\n",
      "59\n",
      "60 FizzBuzz\n",
      "61\n",
      "62\n",
      "63 Fizz\n",
      "64\n",
      "65 Buzz\n",
      "66 Fizz\n",
      "67\n",
      "68\n",
      "69 Fizz\n",
      "70 Buzz\n",
      "71\n",
      "72 Fizz\n",
      "73\n",
      "74\n",
      "75 FizzBuzz\n",
      "76\n",
      "77\n",
      "78 Fizz\n",
      "79\n",
      "80 Buzz\n",
      "81 Fizz\n",
      "82\n",
      "83\n",
      "84 Fizz\n",
      "85 Buzz\n",
      "86\n",
      "87 Fizz\n",
      "88\n",
      "89\n",
      "90 FizzBuzz\n",
      "91\n",
      "92\n",
      "93 Fizz\n",
      "94\n",
      "95 Buzz\n",
      "96 Fizz\n",
      "97\n",
      "98\n",
      "99 Fizz\n",
      "100 Buzz\n"
     ]
    }
   ],
   "source": [
    "for i in range(1, 101):\n",
    "    if i % 15 == 0:\n",
    "        print(f'{i} FizzBuzz')\n",
    "    elif i % 5 ==0:\n",
    "        print(f'{i} Buzz')\n",
    "    elif i % 3 == 0:\n",
    "        print(f'{i} Fizz')\n",
    "    else:\n",
    "        print(f'{i}')"
   ]
  },
  {
   "cell_type": "code",
   "execution_count": 10,
   "id": "2219382c",
   "metadata": {},
   "outputs": [
    {
     "name": "stdout",
     "output_type": "stream",
     "text": [
      "Here is your table!\n",
      "\n",
      "number | squared | cubed\n",
      "------ | ------- | -----\n",
      "1        1        1\n",
      "2        4        8\n",
      "3        9        27\n",
      "4        16        64\n",
      "5        25        125\n"
     ]
    }
   ],
   "source": [
    "i = 0\n",
    "print('Here is your table!')\n",
    "print()\n",
    "print('number | squared | cubed')\n",
    "print('------ | ------- | -----')\n",
    "while i <= 4:\n",
    "    i += 1\n",
    "    print(f'{i}        {i**2}        {i**3}')"
   ]
  },
  {
   "cell_type": "code",
   "execution_count": 14,
   "id": "6a25eba9",
   "metadata": {},
   "outputs": [
    {
     "name": "stdout",
     "output_type": "stream",
     "text": [
      "A+\n"
     ]
    }
   ],
   "source": [
    "grade = float(input('Enter score: '))\n",
    "if grade >= 99:\n",
    "    print('A+')\n",
    "elif grade >= 88:\n",
    "    print('A')\n",
    "elif grade >= 80:\n",
    "    print('B')\n",
    "elif grade >= 67:\n",
    "    print('C')\n",
    "elif grade >= 60:\n",
    "    print('D')\n",
    "else:\n",
    "    print('F')"
   ]
  },
  {
   "cell_type": "code",
   "execution_count": 21,
   "id": "b4a41ccb",
   "metadata": {},
   "outputs": [],
   "source": [
    "codeup = [{'title': 'flowers for algernon', 'author': 'Daniel Keyes', 'genre': 'science fiction'}, \n",
    "{'title': 'dark matter', 'author': 'Blake Crouch', 'genre': 'science fiction'}, \n",
    "{'title': 'greenlights', 'author': 'Matthew McConaughey', 'genre': 'Memior'}]\n",
    "\n",
    "for i in codeup:\n",
    "    if i == 'science fiction':\n",
    "        print(i)"
   ]
  },
  {
   "cell_type": "code",
   "execution_count": null,
   "id": "c73adc0e",
   "metadata": {},
   "outputs": [],
   "source": []
  }
 ],
 "metadata": {
  "kernelspec": {
   "display_name": "Python 3.9.6 64-bit",
   "language": "python",
   "name": "python3"
  },
  "language_info": {
   "codemirror_mode": {
    "name": "ipython",
    "version": 3
   },
   "file_extension": ".py",
   "mimetype": "text/x-python",
   "name": "python",
   "nbconvert_exporter": "python",
   "pygments_lexer": "ipython3",
   "version": "3.9.6"
  },
  "vscode": {
   "interpreter": {
    "hash": "31f2aee4e71d21fbe5cf8b01ff0e069b9275f58929596ceb00d14d90e3e16cd6"
   }
  }
 },
 "nbformat": 4,
 "nbformat_minor": 5
}
